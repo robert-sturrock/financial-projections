{
 "cells": [
  {
   "cell_type": "code",
   "execution_count": 25,
   "metadata": {},
   "outputs": [],
   "source": [
    "import pandas as pd\n",
    "import nbconvert\n",
    "import numpy as np\n",
    "import plotly.graph_objects as go\n",
    "from plotly.subplots import make_subplots\n",
    "import plotly.io as pio\n",
    "from matplotlib import cm\n",
    "import ipywidgets as widgets\n",
    "from IPython.display import display"
   ]
  },
  {
   "cell_type": "code",
   "execution_count": 26,
   "metadata": {},
   "outputs": [
    {
     "name": "stderr",
     "output_type": "stream",
     "text": [
      "/home/deck/Documents/Github/financial-projections/.venv/lib/python3.10/site-packages/traitlets/traitlets.py:2438: FutureWarning:\n",
      "\n",
      "Calling float on a single element Series is deprecated and will raise a TypeError in the future. Use float(ser.iloc[0]) instead\n",
      "\n"
     ]
    },
    {
     "data": {
      "application/vnd.jupyter.widget-view+json": {
       "model_id": "3f08eb1246414e38ad7166c4951f49a0",
       "version_major": 2,
       "version_minor": 0
      },
      "text/plain": [
       "FloatText(value=250000.0, description='Robert Income', layout=Layout(width='300px'), step=5000.0, style=Descri…"
      ]
     },
     "metadata": {},
     "output_type": "display_data"
    },
    {
     "data": {
      "application/vnd.jupyter.widget-view+json": {
       "model_id": "83560de992e4442ba540f5c307f142ed",
       "version_major": 2,
       "version_minor": 0
      },
      "text/plain": [
       "FloatText(value=150000.0, description='Isabel Income', layout=Layout(width='300px'), step=5000.0, style=Descri…"
      ]
     },
     "metadata": {},
     "output_type": "display_data"
    },
    {
     "data": {
      "application/vnd.jupyter.widget-view+json": {
       "model_id": "6d2af747be644d5c8e0c104acb3d4885",
       "version_major": 2,
       "version_minor": 0
      },
      "text/plain": [
       "FloatText(value=120000.0, description='Expenses', layout=Layout(width='300px'), step=5000.0, style=Description…"
      ]
     },
     "metadata": {},
     "output_type": "display_data"
    },
    {
     "data": {
      "application/vnd.jupyter.widget-view+json": {
       "model_id": "915a94469b8c4b57bc8a95f5541c0113",
       "version_major": 2,
       "version_minor": 0
      },
      "text/plain": [
       "FloatText(value=800000.0, description='Assets', layout=Layout(width='300px'), step=5000.0, style=DescriptionSt…"
      ]
     },
     "metadata": {},
     "output_type": "display_data"
    },
    {
     "data": {
      "application/vnd.jupyter.widget-view+json": {
       "model_id": "7212dae699ce4114a48ada7aba5987a2",
       "version_major": 2,
       "version_minor": 0
      },
      "text/plain": [
       "FloatText(value=0.03, description='Robert Income growth rate', layout=Layout(width='300px'), step=0.01, style=…"
      ]
     },
     "metadata": {},
     "output_type": "display_data"
    },
    {
     "data": {
      "application/vnd.jupyter.widget-view+json": {
       "model_id": "f38f3900813c45f9a2dfddad9b150051",
       "version_major": 2,
       "version_minor": 0
      },
      "text/plain": [
       "FloatText(value=0.03, description='Isabel Income growth rate', layout=Layout(width='300px'), step=0.01, style=…"
      ]
     },
     "metadata": {},
     "output_type": "display_data"
    },
    {
     "data": {
      "application/vnd.jupyter.widget-view+json": {
       "model_id": "878c7d47edc14129a7c770233400eebb",
       "version_major": 2,
       "version_minor": 0
      },
      "text/plain": [
       "FloatText(value=0.03, description='Expenses growth rate', layout=Layout(width='300px'), step=0.01, style=Descr…"
      ]
     },
     "metadata": {},
     "output_type": "display_data"
    },
    {
     "data": {
      "application/vnd.jupyter.widget-view+json": {
       "model_id": "2e7da94d61cd4828a67a70da7e012810",
       "version_major": 2,
       "version_minor": 0
      },
      "text/plain": [
       "FloatText(value=0.05, description='Assets growth rate', layout=Layout(width='300px'), step=0.01, style=Descrip…"
      ]
     },
     "metadata": {},
     "output_type": "display_data"
    }
   ],
   "source": [
    "import ipywidgets as widgets\n",
    "from IPython.display import display\n",
    "\n",
    "# Define the growth_rates dictionary\n",
    "growth_rates = {\n",
    "    'robert_income': 0.03,\n",
    "    'isabel_income': 0.03,\n",
    "    'expenses': 0.03,\n",
    "    'assets': 0.05\n",
    "}\n",
    "\n",
    "# Define the base values dictionary\n",
    "base_values = pd.DataFrame({\n",
    "        'year': [2023],\n",
    "        'robert_income': [250_000],\n",
    "        'isabel_income': [150_000],\n",
    "        'expenses': [120_000],\n",
    "        'assets': [800_000]\n",
    "}).set_index('year')\n",
    "\n",
    "# Create widgets for each variable in growth_rates\n",
    "growth_rates_widgets = {}\n",
    "for variable, default_value in growth_rates.items():\n",
    "    # Customize the widget appearance\n",
    "    widget = widgets.FloatText(\n",
    "        value=default_value,\n",
    "        description=variable.replace('_', ' ').title() + ' growth rate',  # Change variable name formatting\n",
    "        step=0.01,\n",
    "        layout=widgets.Layout(width='300px'),  # Set widget width\n",
    "        style={'description_width': 'initial'}  # Prevent description truncation\n",
    "    )\n",
    "    growth_rates_widgets[variable] = widget\n",
    "\n",
    "# Create widgets for income, expenses, assets initial values\n",
    "base_values_widgets = {}\n",
    "for variable, default_value in base_values.items():\n",
    "    # Customize the widget appearance\n",
    "    widget = widgets.FloatText(\n",
    "        value=default_value,\n",
    "        description=variable.replace('_', ' ').title(),  # Change variable name formatting\n",
    "        step=5_000,\n",
    "        layout=widgets.Layout(width='300px'),  # Set widget width\n",
    "        style={'description_width': 'initial'}  # Prevent description truncation\n",
    "    )\n",
    "    base_values_widgets[variable] = widget\n",
    "\n",
    "\n",
    "# Display the widgets\n",
    "for widget in base_values_widgets.values():\n",
    "    display(widget)\n",
    "    \n",
    "for widget in growth_rates_widgets.values():\n",
    "    display(widget)"
   ]
  },
  {
   "cell_type": "code",
   "execution_count": 59,
   "metadata": {},
   "outputs": [
    {
     "data": {
      "application/vnd.jupyter.widget-view+json": {
       "model_id": "47a93c5c88e84e6ca59bbe2b4d767ba7",
       "version_major": 2,
       "version_minor": 0
      },
      "text/plain": [
       "IntText(value=2023, description='Year:', layout=Layout(width='300px'))"
      ]
     },
     "metadata": {},
     "output_type": "display_data"
    },
    {
     "data": {
      "application/vnd.jupyter.widget-view+json": {
       "model_id": "8aabc54f5aae4e3b8aaba20101ddcf0c",
       "version_major": 2,
       "version_minor": 0
      },
      "text/plain": [
       "Dropdown(description='Shock Type:', layout=Layout(width='300px'), options=('robert_income', 'isabel_income', '…"
      ]
     },
     "metadata": {},
     "output_type": "display_data"
    },
    {
     "data": {
      "application/vnd.jupyter.widget-view+json": {
       "model_id": "cf7053742e944e7f9c818a331652ce7c",
       "version_major": 2,
       "version_minor": 0
      },
      "text/plain": [
       "FloatText(value=0.0, description='Amount:', layout=Layout(width='300px'))"
      ]
     },
     "metadata": {},
     "output_type": "display_data"
    },
    {
     "data": {
      "application/vnd.jupyter.widget-view+json": {
       "model_id": "632138a6489a4697ab1013f19379159c",
       "version_major": 2,
       "version_minor": 0
      },
      "text/plain": [
       "Text(value='', description='Comment:', layout=Layout(width='300px'))"
      ]
     },
     "metadata": {},
     "output_type": "display_data"
    },
    {
     "data": {
      "application/vnd.jupyter.widget-view+json": {
       "model_id": "78b07586cfbd4b76ba00688eba037a63",
       "version_major": 2,
       "version_minor": 0
      },
      "text/plain": [
       "Button(description='Add Shock', layout=Layout(width='150px'), style=ButtonStyle())"
      ]
     },
     "metadata": {},
     "output_type": "display_data"
    },
    {
     "data": {
      "application/vnd.jupyter.widget-view+json": {
       "model_id": "87042b7bdb77464aac8df48a250a4fc7",
       "version_major": 2,
       "version_minor": 0
      },
      "text/plain": [
       "Output()"
      ]
     },
     "metadata": {},
     "output_type": "display_data"
    }
   ],
   "source": [
    "import ipywidgets as widgets\n",
    "from IPython.display import display, HTML, clear_output\n",
    "\n",
    "# Define the initial shocks DataFrame\n",
    "shocks = pd.DataFrame(columns=['Year', 'Shock Type', 'Amount', 'Comment'])\n",
    "\n",
    "# Create input widgets for shock details\n",
    "year_widget = widgets.IntText(\n",
    "    value=2023,  # Set default value\n",
    "    description='Year:',\n",
    "    layout=widgets.Layout(width='300px')\n",
    ")\n",
    "\n",
    "shock_type_widget = widgets.Dropdown(\n",
    "    options=['robert_income', 'isabel_income', 'expenses', 'assets'],\n",
    "    value='robert_income',\n",
    "    description='Shock Type:',\n",
    "    layout=widgets.Layout(width='300px')\n",
    ")\n",
    "\n",
    "amount_widget = widgets.FloatText(\n",
    "    description='Amount:',\n",
    "    layout=widgets.Layout(width='300px')\n",
    ")\n",
    "\n",
    "comment_widget = widgets.Text(\n",
    "    description='Comment:',\n",
    "    layout=widgets.Layout(width='300px')\n",
    ")\n",
    "\n",
    "add_shock_button = widgets.Button(\n",
    "    description='Add Shock',\n",
    "    layout=widgets.Layout(width='150px')\n",
    ")\n",
    "\n",
    "# Create output widget for shocks\n",
    "shocks_output = widgets.Output()\n",
    "\n",
    "def add_shock(button):\n",
    "    year = year_widget.value\n",
    "    shock_type = shock_type_widget.value\n",
    "    amount = amount_widget.value\n",
    "    comment = comment_widget.value\n",
    "    \n",
    "    shocks.loc[len(shocks)] = [year, shock_type, amount, comment]\n",
    "    \n",
    "    # Reset the input fields\n",
    "    year_widget.value = 2023  # Reset the year value\n",
    "    shock_type_widget.value = 'robert_income'\n",
    "    amount_widget.value = 0\n",
    "    comment_widget.value = \"\"\n",
    "\n",
    "# Attach the event handler to the button\n",
    "add_shock_button.on_click(add_shock)\n",
    "\n",
    "# Display the input widgets and output\n",
    "display(year_widget, shock_type_widget, amount_widget, comment_widget, add_shock_button)\n",
    "\n",
    "def display_shocks():\n",
    "    with shocks_output:\n",
    "        clear_output()\n",
    "        display(HTML('<h4>Current Shocks:</h4>'))\n",
    "        display(shocks)\n",
    "\n",
    "# Display the initial shocks\n",
    "display_shocks()\n"
   ]
  },
  {
   "cell_type": "code",
   "execution_count": 58,
   "metadata": {},
   "outputs": [
    {
     "data": {
      "text/plain": [
       "ipywidgets.widgets.widget_output.Output"
      ]
     },
     "execution_count": 58,
     "metadata": {},
     "output_type": "execute_result"
    }
   ],
   "source": [
    "type(shocks_output)"
   ]
  },
  {
   "cell_type": "code",
   "execution_count": 11,
   "metadata": {},
   "outputs": [
    {
     "ename": "NameError",
     "evalue": "name 'shocks' is not defined",
     "output_type": "error",
     "traceback": [
      "\u001b[0;31m---------------------------------------------------------------------------\u001b[0m",
      "\u001b[0;31mNameError\u001b[0m                                 Traceback (most recent call last)",
      "Cell \u001b[0;32mIn[11], line 157\u001b[0m\n\u001b[1;32m    154\u001b[0m     fig\u001b[38;5;241m.\u001b[39mshow()\n\u001b[1;32m    156\u001b[0m \u001b[38;5;66;03m# Example usage\u001b[39;00m\n\u001b[0;32m--> 157\u001b[0m financial_projection(\u001b[38;5;241m100000\u001b[39m, \u001b[38;5;241m200000\u001b[39m, \u001b[38;5;241m50000\u001b[39m, \u001b[38;5;241m800000\u001b[39m, growth_rates, \u001b[43mshocks\u001b[49m, \u001b[38;5;241m0.08\u001b[39m, \u001b[38;5;241m1000\u001b[39m)\n",
      "\u001b[0;31mNameError\u001b[0m: name 'shocks' is not defined"
     ]
    }
   ],
   "source": [
    "\n",
    "\n",
    "def financial_projection(robert_income, isabel_income, expenses, assets, growth_rates, shocks, volatility, simulations):\n",
    "    # set defaults for charts\n",
    "    pio.templates.default = \"plotly_white\"\n",
    "\n",
    "    @np.vectorize\n",
    "    def calculate_tax(income):\n",
    "        brackets = [9950, 40525, 86375, 164925, 209425, 523600]\n",
    "        rates = [0.10, 0.12, 0.22, 0.24, 0.32, 0.35, 0.37]\n",
    "        tax = 0\n",
    "        for i in range(len(brackets)):\n",
    "            if income > brackets[i]:\n",
    "                if i == 0:\n",
    "                    tax += rates[i] * brackets[i]\n",
    "                else:\n",
    "                    tax += rates[i] * (brackets[i] - brackets[i - 1])\n",
    "            else:\n",
    "                if i == 0:\n",
    "                    tax += rates[i] * income\n",
    "                else:\n",
    "                    tax += rates[i] * (income - brackets[i - 1])\n",
    "                break\n",
    "        if income > brackets[-1]:\n",
    "            tax += rates[-1] * (income - brackets[-1])\n",
    "\n",
    "        return tax\n",
    "\n",
    "    # parameters\n",
    "    variables = ['robert_income', 'isabel_income', 'expenses', 'assets']\n",
    "\n",
    "    # create initial setup DataFrame\n",
    "    data = pd.DataFrame({\n",
    "        'year': [2023],\n",
    "        'robert_income': [robert_income],\n",
    "        'isabel_income': [isabel_income],\n",
    "        'expenses': [expenses],\n",
    "        'assets': [assets]\n",
    "    }).set_index('year')\n",
    "\n",
    "    growth_assumptions = growth_rates\n",
    "\n",
    "    volatility = volatility  # standard deviation of asset growth\n",
    "    simulations = simulations  # number of simulations\n",
    "\n",
    "    # create a DataFrame to hold the future projections\n",
    "    projection = pd.DataFrame(index=range(2023, 2083))\n",
    "\n",
    "    # initialize a DataFrame with simulations for assets\n",
    "    asset_simulations = pd.DataFrame(1 + volatility * np.random.standard_normal(size=(60, simulations)),\n",
    "                                     index=projection.index,\n",
    "                                     columns=['simulation_' + str(i) for i in range(simulations)]\n",
    "    )\n",
    "\n",
    "    # chain all\n",
    "    asset_simulations = asset_simulations.cumprod()\n",
    "\n",
    "\n",
    "    # loop over years\n",
    "    for year in projection.index:\n",
    "        if year == 2023:\n",
    "            # handle base year\n",
    "            for var in variables:\n",
    "                projection.loc[year, var] = data.loc[2023, var]\n",
    "                asset_simulations.loc[year] = data.loc[2023, 'assets']\n",
    "        else:\n",
    "            # apply growth assumptions and shocks\n",
    "            for var in variables:\n",
    "                projection.loc[year, var] = projection.loc[year - 1, var] * (1 + growth_assumptions[var])\n",
    "                if year in shocks and var in shocks[year]:\n",
    "                    shock, _ = shocks[year][var]\n",
    "                    projection.loc[year, var] += shock\n",
    "            \n",
    "            # calculate household income and savings\n",
    "            projection.loc[year, 'household_income'] = projection.loc[year, 'robert_income'] + projection.loc[year, 'isabel_income']\n",
    "            projection.loc[year, 'taxes'] = calculate_tax(projection.loc[year, 'household_income'])\n",
    "            projection.loc[year, 'net_household_income'] = projection.loc[year, 'household_income'] - projection.loc[year, 'taxes']\n",
    "\n",
    "            # calculate savings\n",
    "            projection.loc[year, 'savings'] = projection.loc[year, 'net_household_income'] - projection.loc[year, 'expenses']\n",
    "\n",
    "            # add savings to assets\n",
    "            projection.loc[year, 'assets'] += projection.loc[year, 'savings']\n",
    "\n",
    "            # add volatility to assets\n",
    "            asset_simulations.loc[year] = projection.loc[year - 1, 'assets'] * (asset_simulations.loc[year])\n",
    "\n",
    "\n",
    "    \n",
    "    # plot income, expenses, and savings\n",
    "    fig = go.Figure(layout=go.Layout(template='plotly_white'))\n",
    "\n",
    "    for var in ['robert_income', 'isabel_income', 'expenses', 'savings', 'household_income','net_household_income','taxes']:\n",
    "        fig.add_trace(go.Scatter(\n",
    "            x=projection.index,\n",
    "            y=projection[var], \n",
    "            mode='lines', \n",
    "            name=var.replace('_',' ').title()))\n",
    "\n",
    "    fig.show()\n",
    "\n",
    "    # plot asset simulations as a fan chart\n",
    "    fig = go.Figure()\n",
    "\n",
    "    percentiles = [1, 5, 20, 50, 80, 95, 99]\n",
    "    colors = [cm.Blues(x) for x in np.linspace(0.01, 1, 7)]\n",
    "\n",
    "    for i in range(len(percentiles)):\n",
    "        percentile = percentiles[i]\n",
    "        color = colors[i]\n",
    "        asset_percentile = asset_simulations.apply(lambda x: np.percentile(x, percentile), axis=1)\n",
    "        fig.add_trace(go.Scatter(\n",
    "            x=asset_percentile.index, \n",
    "            y=asset_percentile, \n",
    "            fill='tonexty', \n",
    "            fillcolor='rgba'+str(color),\n",
    "            line_color='rgba'+str(color),\n",
    "            name=str(percentile)+'th percentile'))\n",
    "\n",
    "    fig.show()\n",
    "\n",
    "\n",
    "    # plot shocks\n",
    "    all_shock_values = []\n",
    "\n",
    "    for shock_type in ['assets', 'robert_income', 'isabel_income', 'expenses']:\n",
    "        for year, shocks_in_year in shocks.items():\n",
    "            if shock_type in shocks_in_year:\n",
    "                all_shock_values.append(shocks_in_year[shock_type][0])\n",
    "\n",
    "    fig = make_subplots(rows=4, cols=1, shared_xaxes=True, shared_yaxes='rows')\n",
    "\n",
    "    for shock_type, subplot in zip(['assets', 'robert_income', 'isabel_income', 'expenses'], [1, 2, 3, 4]):\n",
    "        shock_years = []\n",
    "        shock_values = []\n",
    "        hover_texts = []  # New list to store hover text labels\n",
    "        for year, shocks_in_year in shocks.items():\n",
    "            if shock_type in shocks_in_year:\n",
    "                shock_years.append(year)\n",
    "                shock_values.append(shocks_in_year[shock_type][0])\n",
    "                hover_texts.append(shocks_in_year[shock_type][1])  # Add the hover text label to the list\n",
    "        fig.add_trace(go.Bar(\n",
    "            x=shock_years, \n",
    "            y=shock_values, \n",
    "            name=shock_type.replace('_',' ').title() + ' Shocks', \n",
    "            text=hover_texts, \n",
    "            textposition='outside', \n",
    "            hovertemplate='%{text}', \n",
    "            textfont=dict(color='rgba(0,0,0,0)')), \n",
    "            row=subplot, \n",
    "            col=1)\n",
    "\n",
    "    fig.update_xaxes(range=[2023, 2082])\n",
    "    fig.update_yaxes(range=[min(all_shock_values), max(all_shock_values)])\n",
    "    fig.update_layout(template='plotly_white')\n",
    "    fig.show()\n",
    "\n",
    "# Example usage\n",
    "financial_projection(100000, 200000, 50000, 800000, growth_rates, shocks, 0.08, 1000)\n"
   ]
  },
  {
   "cell_type": "code",
   "execution_count": null,
   "metadata": {},
   "outputs": [],
   "source": []
  }
 ],
 "metadata": {
  "kernelspec": {
   "display_name": "Python 3 (ipykernel)",
   "language": "python",
   "name": "python3"
  },
  "language_info": {
   "codemirror_mode": {
    "name": "ipython",
    "version": 3
   },
   "file_extension": ".py",
   "mimetype": "text/x-python",
   "name": "python",
   "nbconvert_exporter": "python",
   "pygments_lexer": "ipython3",
   "version": "3.10.6"
  }
 },
 "nbformat": 4,
 "nbformat_minor": 2
}
