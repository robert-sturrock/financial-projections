{
 "cells": [
  {
   "attachments": {},
   "cell_type": "markdown",
   "metadata": {},
   "source": [
    "Testing how this looks. So far is seems good!"
   ]
  },
  {
   "cell_type": "code",
   "execution_count": 19,
   "metadata": {},
   "outputs": [
    {
     "name": "stdout",
     "output_type": "stream",
     "text": [
      "Distribution 1:\n",
      "Mean: 18.68229200300492\n",
      "Median: 18.63291781141136\n",
      "Distribution 2:\n",
      "Mean: 18.69191221249503\n",
      "Median: 15.747066560700272\n"
     ]
    },
    {
     "data": {
      "image/png": "[encoded data removed]",
      "text/plain": [
       "<Figure size 1000x600 with 1 Axes>"
      ]
     },
     "metadata": {},
     "output_type": "display_data"
    }
   ],
   "source": [
    "import numpy as np\n",
    "import matplotlib.pyplot as plt\n",
    "\n",
    "\n",
    "np.random.seed(0)  # Set a random seed for reproducibility\n",
    "\n",
    "# Parameters for the first distribution\n",
    "mu1 = 1.05\n",
    "sigma1 = 0.01\n",
    "\n",
    "# Parameters for the second distribution\n",
    "mu2 = 1.05\n",
    "sigma2 = 0.08\n",
    "\n",
    "num_simulations = 100000\n",
    "\n",
    "# Simulate and calculate cumulative products for the first distribution\n",
    "cumulative_products1 = np.cumprod(np.random.normal(mu1, sigma1, (num_simulations, 60)), axis=1)\n",
    "mean1 = np.mean(cumulative_products1[:,59])\n",
    "median1 = np.median(cumulative_products1[:,59])\n",
    "\n",
    "# Simulate and calculate cumulative products for the second distribution\n",
    "cumulative_products2 = np.cumprod(np.random.normal(mu2, sigma2, (num_simulations, 60)), axis=1)\n",
    "mean2 = np.mean(cumulative_products2[:,59])\n",
    "median2 = np.median(cumulative_products2[:,59])\n",
    "\n",
    "print(\"Distribution 1:\")\n",
    "print(\"Mean:\", mean1)\n",
    "print(\"Median:\", median1)\n",
    "\n",
    "print(\"Distribution 2:\")\n",
    "print(\"Mean:\", mean2)\n",
    "print(\"Median:\", median2)\n",
    "\n",
    "# plot\n",
    "plt.figure(figsize=(10, 6))\n",
    "plt.hist(cumulative_products1[:, 59], bins=500, range=(np.min(cumulative_products2[:, 59]), np.max(cumulative_products2[:, 59])), alpha=0.5, label='Distribution 1')\n",
    "plt.hist(cumulative_products2[:, 59], bins=500, range=(np.min(cumulative_products2[:, 59]), np.max(cumulative_products2[:, 59])), alpha=0.5, label='Distribution 2')\n",
    "plt.xlabel('Cumulative Product')\n",
    "plt.ylabel('Frequency')\n",
    "plt.xlim([0,100])\n",
    "plt.title('Distribution of Cumulative Products')\n",
    "plt.legend()\n",
    "plt.show()\n"
   ]
  },
  {
   "attachments": {},
   "cell_type": "markdown",
   "metadata": {},
   "source": [
    "Sorting out the tax calculation on the data frame"
   ]
  },
  {
   "cell_type": "code",
   "execution_count": 6,
   "metadata": {},
   "outputs": [],
   "source": [
    "import pandas as pd\n",
    "import numpy as np\n",
    "\n",
    "variables = ['robert_income', 'isabel_income', 'expenses', 'assets']\n",
    "\n",
    "# create initial setup DataFrame\n",
    "data = pd.DataFrame({\n",
    "    'year': [2023],\n",
    "    'robert_income': [100000],\n",
    "    'isabel_income': [200000],\n",
    "    'expenses': [50000],\n",
    "    'assets': [800000]\n",
    "}).set_index('year')\n",
    "\n",
    "growth_assumptions = {\n",
    "    'robert_income': 0.0,\n",
    "    'isabel_income': 0.0,\n",
    "    'expenses': 0.01,\n",
    "    'assets': 0.04\n",
    "}\n",
    "shocks = {\n",
    "    2027: {\n",
    "        'robert_income': -10000,\n",
    "        'isabel_income': -100000\n",
    "    },\n",
    "    2030: {\n",
    "        'expenses':30_000\n",
    "    }\n",
    "\n",
    "}\n",
    "volatility = 0.08  # standard deviation of asset growth\n",
    "simulations = 1000  # number of simulations\n",
    "\n",
    "# create a DataFrame to hold the future projections\n",
    "projection = pd.DataFrame(index=range(2023, 2083))\n",
    "\n",
    "# initialize a DataFrame with simulations for assets\n",
    "asset_simulations = pd.DataFrame(1 + volatility * np.random.standard_normal(size=(60,10000)), \n",
    "                                 index=projection.index,\n",
    "                                 columns=['simulation_'+str(i) for i in range(10000)]\n",
    ")\n",
    "\n",
    "# chain all \n",
    "asset_simulations = asset_simulations.cumprod()\n",
    "\n",
    "# loop over years\n",
    "for year in projection.index:\n",
    "    if year == 2023:\n",
    "        # handle base year\n",
    "        for var in variables:\n",
    "            projection.loc[year, var] = data.loc[2023, var]\n",
    "            asset_simulations.loc[year] = data.loc[2023, 'assets']\n",
    "    else:\n",
    "        # apply growth assumptions and shocks\n",
    "        for var in variables:\n",
    "            projection.loc[year, var] = projection.loc[year - 1, var] * (1 + growth_assumptions[var])\n",
    "            if year in shocks and var in shocks[year]:\n",
    "                shock = shocks[year][var]\n",
    "                projection.loc[year, var] += shock\n",
    "\n",
    "        # calculate savings\n",
    "        projection.loc[year, 'savings'] = projection.loc[year, 'robert_income'] + projection.loc[year, 'isabel_income'] - projection.loc[year, 'expenses']\n",
    "\n",
    "        # add savings to assets\n",
    "        projection.loc[year, 'assets'] += projection.loc[year, 'savings']\n",
    "\n",
    "        # add volatility to assets\n",
    "        asset_simulations.loc[year] = projection.loc[year - 1, 'assets'] * (asset_simulations.loc[year])\n",
    "\n"
   ]
  },
  {
   "cell_type": "code",
   "execution_count": 8,
   "metadata": {},
   "outputs": [
    {
     "data": {
      "text/html": [
       "<div>\n",
       "<style scoped>\n",
       "    .dataframe tbody tr th:only-of-type {\n",
       "        vertical-align: middle;\n",
       "    }\n",
       "\n",
       "    .dataframe tbody tr th {\n",
       "        vertical-align: top;\n",
       "    }\n",
       "\n",
       "    .dataframe thead th {\n",
       "        text-align: right;\n",
       "    }\n",
       "</style>\n",
       "<table border=\"1\" class=\"dataframe\">\n",
       "  <thead>\n",
       "    <tr style=\"text-align: right;\">\n",
       "      <th></th>\n",
       "      <th>robert_income</th>\n",
       "      <th>isabel_income</th>\n",
       "      <th>expenses</th>\n",
       "      <th>assets</th>\n",
       "      <th>savings</th>\n",
       "    </tr>\n",
       "  </thead>\n",
       "  <tbody>\n",
       "    <tr>\n",
       "      <th>2023</th>\n",
       "      <td>100000.0</td>\n",
       "      <td>200000.0</td>\n",
       "      <td>50000.0000</td>\n",
       "      <td>8.000000e+05</td>\n",
       "      <td>NaN</td>\n",
       "    </tr>\n",
       "    <tr>\n",
       "      <th>2024</th>\n",
       "      <td>100000.0</td>\n",
       "      <td>200000.0</td>\n",
       "      <td>50500.0000</td>\n",
       "      <td>1.081500e+06</td>\n",
       "      <td>249500.0000</td>\n",
       "    </tr>\n",
       "    <tr>\n",
       "      <th>2025</th>\n",
       "      <td>100000.0</td>\n",
       "      <td>200000.0</td>\n",
       "      <td>51005.0000</td>\n",
       "      <td>1.373755e+06</td>\n",
       "      <td>248995.0000</td>\n",
       "    </tr>\n",
       "    <tr>\n",
       "      <th>2026</th>\n",
       "      <td>100000.0</td>\n",
       "      <td>200000.0</td>\n",
       "      <td>51515.0500</td>\n",
       "      <td>1.677190e+06</td>\n",
       "      <td>248484.9500</td>\n",
       "    </tr>\n",
       "    <tr>\n",
       "      <th>2027</th>\n",
       "      <td>90000.0</td>\n",
       "      <td>100000.0</td>\n",
       "      <td>52030.2005</td>\n",
       "      <td>1.882248e+06</td>\n",
       "      <td>137969.7995</td>\n",
       "    </tr>\n",
       "  </tbody>\n",
       "</table>\n",
       "</div>"
      ],
      "text/plain": [
       "      robert_income  isabel_income    expenses        assets      savings\n",
       "2023       100000.0       200000.0  50000.0000  8.000000e+05          NaN\n",
       "2024       100000.0       200000.0  50500.0000  1.081500e+06  249500.0000\n",
       "2025       100000.0       200000.0  51005.0000  1.373755e+06  248995.0000\n",
       "2026       100000.0       200000.0  51515.0500  1.677190e+06  248484.9500\n",
       "2027        90000.0       100000.0  52030.2005  1.882248e+06  137969.7995"
      ]
     },
     "execution_count": 8,
     "metadata": {},
     "output_type": "execute_result"
    }
   ],
   "source": [
    "projection.head()"
   ]
  },
  {
   "cell_type": "code",
   "execution_count": null,
   "metadata": {},
   "outputs": [],
   "source": [
    "projection['household_income'] = projection['robert_income'] + projection['isabel_income']"
   ]
  },
  {
   "cell_type": "code",
   "execution_count": 1,
   "metadata": {},
   "outputs": [],
   "source": [
    "def calculate_tax(income):\n",
    "    brackets = [9950, 40525, 86375, 164925, 209425, 523600]\n",
    "    rates = [0.10, 0.12, 0.22, 0.24, 0.32, 0.35, 0.37]\n",
    "    tax = 0\n",
    "\n",
    "    for i in range(len(brackets)):\n",
    "        if income > brackets[i]:\n",
    "            if i == 0:\n",
    "                tax += rates[i] * brackets[i]\n",
    "            else:\n",
    "                tax += rates[i] * (brackets[i] - brackets[i-1])\n",
    "        else:\n",
    "            if i == 0:\n",
    "                tax += rates[i] * income\n",
    "            else:\n",
    "                tax += rates[i] * (income - brackets[i-1])\n",
    "            break\n",
    "\n",
    "    if income > brackets[-1]:\n",
    "        tax += rates[-1] * (income - brackets[-1])\n",
    "\n",
    "    return tax"
   ]
  },
  {
   "cell_type": "code",
   "execution_count": 9,
   "metadata": {},
   "outputs": [
    {
     "ename": "ValueError",
     "evalue": "The truth value of a Series is ambiguous. Use a.empty, a.bool(), a.item(), a.any() or a.all().",
     "output_type": "error",
     "traceback": [
      "\u001b[0;31m---------------------------------------------------------------------------\u001b[0m",
      "\u001b[0;31mValueError\u001b[0m                                Traceback (most recent call last)",
      "\u001b[0;32m/tmp/ipykernel_261/1373958050.py\u001b[0m in \u001b[0;36m?\u001b[0;34m()\u001b[0m\n\u001b[0;32m----> 1\u001b[0;31m \u001b[0mprojection\u001b[0m\u001b[0;34m.\u001b[0m\u001b[0mapply\u001b[0m\u001b[0;34m(\u001b[0m\u001b[0mcalculate_tax\u001b[0m\u001b[0;34m)\u001b[0m\u001b[0;34m\u001b[0m\u001b[0;34m\u001b[0m\u001b[0m\n\u001b[0m",
      "\u001b[0;32m~/Documents/Github/financial-projections/.venv/lib/python3.10/site-packages/pandas/core/frame.py\u001b[0m in \u001b[0;36m?\u001b[0;34m(self, func, axis, raw, result_type, args, **kwargs)\u001b[0m\n\u001b[1;32m   9419\u001b[0m             \u001b[0mresult_type\u001b[0m\u001b[0;34m=\u001b[0m\u001b[0mresult_type\u001b[0m\u001b[0;34m,\u001b[0m\u001b[0;34m\u001b[0m\u001b[0;34m\u001b[0m\u001b[0m\n\u001b[1;32m   9420\u001b[0m             \u001b[0margs\u001b[0m\u001b[0;34m=\u001b[0m\u001b[0margs\u001b[0m\u001b[0;34m,\u001b[0m\u001b[0;34m\u001b[0m\u001b[0;34m\u001b[0m\u001b[0m\n\u001b[1;32m   9421\u001b[0m             \u001b[0mkwargs\u001b[0m\u001b[0;34m=\u001b[0m\u001b[0mkwargs\u001b[0m\u001b[0;34m,\u001b[0m\u001b[0;34m\u001b[0m\u001b[0;34m\u001b[0m\u001b[0m\n\u001b[1;32m   9422\u001b[0m         )\n\u001b[0;32m-> 9423\u001b[0;31m         \u001b[0;32mreturn\u001b[0m \u001b[0mop\u001b[0m\u001b[0;34m.\u001b[0m\u001b[0mapply\u001b[0m\u001b[0;34m(\u001b[0m\u001b[0;34m)\u001b[0m\u001b[0;34m.\u001b[0m\u001b[0m__finalize__\u001b[0m\u001b[0;34m(\u001b[0m\u001b[0mself\u001b[0m\u001b[0;34m,\u001b[0m \u001b[0mmethod\u001b[0m\u001b[0;34m=\u001b[0m\u001b[0;34m\"apply\"\u001b[0m\u001b[0;34m)\u001b[0m\u001b[0;34m\u001b[0m\u001b[0;34m\u001b[0m\u001b[0m\n\u001b[0m",
      "\u001b[0;32m~/Documents/Github/financial-projections/.venv/lib/python3.10/site-packages/pandas/core/apply.py\u001b[0m in \u001b[0;36m?\u001b[0;34m(self)\u001b[0m\n\u001b[1;32m    674\u001b[0m         \u001b[0;31m# raw\u001b[0m\u001b[0;34m\u001b[0m\u001b[0;34m\u001b[0m\u001b[0m\n\u001b[1;32m    675\u001b[0m         \u001b[0;32melif\u001b[0m \u001b[0mself\u001b[0m\u001b[0;34m.\u001b[0m\u001b[0mraw\u001b[0m\u001b[0;34m:\u001b[0m\u001b[0;34m\u001b[0m\u001b[0;34m\u001b[0m\u001b[0m\n\u001b[1;32m    676\u001b[0m             \u001b[0;32mreturn\u001b[0m \u001b[0mself\u001b[0m\u001b[0;34m.\u001b[0m\u001b[0mapply_raw\u001b[0m\u001b[0;34m(\u001b[0m\u001b[0;34m)\u001b[0m\u001b[0;34m\u001b[0m\u001b[0;34m\u001b[0m\u001b[0m\n\u001b[1;32m    677\u001b[0m \u001b[0;34m\u001b[0m\u001b[0m\n\u001b[0;32m--> 678\u001b[0;31m         \u001b[0;32mreturn\u001b[0m \u001b[0mself\u001b[0m\u001b[0;34m.\u001b[0m\u001b[0mapply_standard\u001b[0m\u001b[0;34m(\u001b[0m\u001b[0;34m)\u001b[0m\u001b[0;34m\u001b[0m\u001b[0;34m\u001b[0m\u001b[0m\n\u001b[0m",
      "\u001b[0;32m~/Documents/Github/financial-projections/.venv/lib/python3.10/site-packages/pandas/core/apply.py\u001b[0m in \u001b[0;36m?\u001b[0;34m(self)\u001b[0m\n\u001b[1;32m    797\u001b[0m     \u001b[0;32mdef\u001b[0m \u001b[0mapply_standard\u001b[0m\u001b[0;34m(\u001b[0m\u001b[0mself\u001b[0m\u001b[0;34m)\u001b[0m\u001b[0;34m:\u001b[0m\u001b[0;34m\u001b[0m\u001b[0;34m\u001b[0m\u001b[0m\n\u001b[0;32m--> 798\u001b[0;31m         \u001b[0mresults\u001b[0m\u001b[0;34m,\u001b[0m \u001b[0mres_index\u001b[0m \u001b[0;34m=\u001b[0m \u001b[0mself\u001b[0m\u001b[0;34m.\u001b[0m\u001b[0mapply_series_generator\u001b[0m\u001b[0;34m(\u001b[0m\u001b[0;34m)\u001b[0m\u001b[0;34m\u001b[0m\u001b[0;34m\u001b[0m\u001b[0m\n\u001b[0m\u001b[1;32m    799\u001b[0m \u001b[0;34m\u001b[0m\u001b[0m\n\u001b[1;32m    800\u001b[0m         \u001b[0;31m# wrap results\u001b[0m\u001b[0;34m\u001b[0m\u001b[0;34m\u001b[0m\u001b[0m\n\u001b[1;32m    801\u001b[0m         \u001b[0;32mreturn\u001b[0m \u001b[0mself\u001b[0m\u001b[0;34m.\u001b[0m\u001b[0mwrap_results\u001b[0m\u001b[0;34m(\u001b[0m\u001b[0mresults\u001b[0m\u001b[0;34m,\u001b[0m \u001b[0mres_index\u001b[0m\u001b[0;34m)\u001b[0m\u001b[0;34m\u001b[0m\u001b[0;34m\u001b[0m\u001b[0m\n",
      "\u001b[0;32m~/Documents/Github/financial-projections/.venv/lib/python3.10/site-packages/pandas/core/apply.py\u001b[0m in \u001b[0;36m?\u001b[0;34m(self)\u001b[0m\n\u001b[1;32m    810\u001b[0m \u001b[0;34m\u001b[0m\u001b[0m\n\u001b[1;32m    811\u001b[0m         \u001b[0;32mwith\u001b[0m \u001b[0moption_context\u001b[0m\u001b[0;34m(\u001b[0m\u001b[0;34m\"mode.chained_assignment\"\u001b[0m\u001b[0;34m,\u001b[0m \u001b[0;32mNone\u001b[0m\u001b[0;34m)\u001b[0m\u001b[0;34m:\u001b[0m\u001b[0;34m\u001b[0m\u001b[0;34m\u001b[0m\u001b[0m\n\u001b[1;32m    812\u001b[0m             \u001b[0;32mfor\u001b[0m \u001b[0mi\u001b[0m\u001b[0;34m,\u001b[0m \u001b[0mv\u001b[0m \u001b[0;32min\u001b[0m \u001b[0menumerate\u001b[0m\u001b[0;34m(\u001b[0m\u001b[0mseries_gen\u001b[0m\u001b[0;34m)\u001b[0m\u001b[0;34m:\u001b[0m\u001b[0;34m\u001b[0m\u001b[0;34m\u001b[0m\u001b[0m\n\u001b[1;32m    813\u001b[0m                 \u001b[0;31m# ignore SettingWithCopy here in case the user mutates\u001b[0m\u001b[0;34m\u001b[0m\u001b[0;34m\u001b[0m\u001b[0m\n\u001b[0;32m--> 814\u001b[0;31m                 \u001b[0mresults\u001b[0m\u001b[0;34m[\u001b[0m\u001b[0mi\u001b[0m\u001b[0;34m]\u001b[0m \u001b[0;34m=\u001b[0m \u001b[0mself\u001b[0m\u001b[0;34m.\u001b[0m\u001b[0mf\u001b[0m\u001b[0;34m(\u001b[0m\u001b[0mv\u001b[0m\u001b[0;34m)\u001b[0m\u001b[0;34m\u001b[0m\u001b[0;34m\u001b[0m\u001b[0m\n\u001b[0m\u001b[1;32m    815\u001b[0m                 \u001b[0;32mif\u001b[0m \u001b[0misinstance\u001b[0m\u001b[0;34m(\u001b[0m\u001b[0mresults\u001b[0m\u001b[0;34m[\u001b[0m\u001b[0mi\u001b[0m\u001b[0;34m]\u001b[0m\u001b[0;34m,\u001b[0m \u001b[0mABCSeries\u001b[0m\u001b[0;34m)\u001b[0m\u001b[0;34m:\u001b[0m\u001b[0;34m\u001b[0m\u001b[0;34m\u001b[0m\u001b[0m\n\u001b[1;32m    816\u001b[0m                     \u001b[0;31m# If we have a view on v, we need to make a copy because\u001b[0m\u001b[0;34m\u001b[0m\u001b[0;34m\u001b[0m\u001b[0m\n\u001b[1;32m    817\u001b[0m                     \u001b[0;31m#  series_generator will swap out the underlying data\u001b[0m\u001b[0;34m\u001b[0m\u001b[0;34m\u001b[0m\u001b[0m\n",
      "\u001b[0;32m/tmp/ipykernel_261/1302926360.py\u001b[0m in \u001b[0;36m?\u001b[0;34m(income)\u001b[0m\n\u001b[1;32m      3\u001b[0m     \u001b[0mrates\u001b[0m \u001b[0;34m=\u001b[0m \u001b[0;34m[\u001b[0m\u001b[0;36m0.10\u001b[0m\u001b[0;34m,\u001b[0m \u001b[0;36m0.12\u001b[0m\u001b[0;34m,\u001b[0m \u001b[0;36m0.22\u001b[0m\u001b[0;34m,\u001b[0m \u001b[0;36m0.24\u001b[0m\u001b[0;34m,\u001b[0m \u001b[0;36m0.32\u001b[0m\u001b[0;34m,\u001b[0m \u001b[0;36m0.35\u001b[0m\u001b[0;34m,\u001b[0m \u001b[0;36m0.37\u001b[0m\u001b[0;34m]\u001b[0m\u001b[0;34m\u001b[0m\u001b[0;34m\u001b[0m\u001b[0m\n\u001b[1;32m      4\u001b[0m     \u001b[0mtax\u001b[0m \u001b[0;34m=\u001b[0m \u001b[0;36m0\u001b[0m\u001b[0;34m\u001b[0m\u001b[0;34m\u001b[0m\u001b[0m\n\u001b[1;32m      5\u001b[0m \u001b[0;34m\u001b[0m\u001b[0m\n\u001b[1;32m      6\u001b[0m     \u001b[0;32mfor\u001b[0m \u001b[0mi\u001b[0m \u001b[0;32min\u001b[0m \u001b[0mrange\u001b[0m\u001b[0;34m(\u001b[0m\u001b[0mlen\u001b[0m\u001b[0;34m(\u001b[0m\u001b[0mbrackets\u001b[0m\u001b[0;34m)\u001b[0m\u001b[0;34m)\u001b[0m\u001b[0;34m:\u001b[0m\u001b[0;34m\u001b[0m\u001b[0;34m\u001b[0m\u001b[0m\n\u001b[0;32m----> 7\u001b[0;31m         \u001b[0;32mif\u001b[0m \u001b[0mincome\u001b[0m \u001b[0;34m>\u001b[0m \u001b[0mbrackets\u001b[0m\u001b[0;34m[\u001b[0m\u001b[0mi\u001b[0m\u001b[0;34m]\u001b[0m\u001b[0;34m:\u001b[0m\u001b[0;34m\u001b[0m\u001b[0;34m\u001b[0m\u001b[0m\n\u001b[0m\u001b[1;32m      8\u001b[0m             \u001b[0;32mif\u001b[0m \u001b[0mi\u001b[0m \u001b[0;34m==\u001b[0m \u001b[0;36m0\u001b[0m\u001b[0;34m:\u001b[0m\u001b[0;34m\u001b[0m\u001b[0;34m\u001b[0m\u001b[0m\n\u001b[1;32m      9\u001b[0m                 \u001b[0mtax\u001b[0m \u001b[0;34m+=\u001b[0m \u001b[0mrates\u001b[0m\u001b[0;34m[\u001b[0m\u001b[0mi\u001b[0m\u001b[0;34m]\u001b[0m \u001b[0;34m*\u001b[0m \u001b[0mbrackets\u001b[0m\u001b[0;34m[\u001b[0m\u001b[0mi\u001b[0m\u001b[0;34m]\u001b[0m\u001b[0;34m\u001b[0m\u001b[0;34m\u001b[0m\u001b[0m\n\u001b[1;32m     10\u001b[0m             \u001b[0;32melse\u001b[0m\u001b[0;34m:\u001b[0m\u001b[0;34m\u001b[0m\u001b[0;34m\u001b[0m\u001b[0m\n",
      "\u001b[0;32m~/Documents/Github/financial-projections/.venv/lib/python3.10/site-packages/pandas/core/generic.py\u001b[0m in \u001b[0;36m?\u001b[0;34m(self)\u001b[0m\n\u001b[1;32m   1464\u001b[0m     \u001b[0;34m@\u001b[0m\u001b[0mfinal\u001b[0m\u001b[0;34m\u001b[0m\u001b[0;34m\u001b[0m\u001b[0m\n\u001b[1;32m   1465\u001b[0m     \u001b[0;32mdef\u001b[0m \u001b[0m__nonzero__\u001b[0m\u001b[0;34m(\u001b[0m\u001b[0mself\u001b[0m\u001b[0;34m)\u001b[0m \u001b[0;34m->\u001b[0m \u001b[0mNoReturn\u001b[0m\u001b[0;34m:\u001b[0m\u001b[0;34m\u001b[0m\u001b[0;34m\u001b[0m\u001b[0m\n\u001b[0;32m-> 1466\u001b[0;31m         raise ValueError(\n\u001b[0m\u001b[1;32m   1467\u001b[0m             \u001b[0;34mf\"The truth value of a {type(self).__name__} is ambiguous. \"\u001b[0m\u001b[0;34m\u001b[0m\u001b[0;34m\u001b[0m\u001b[0m\n\u001b[1;32m   1468\u001b[0m             \u001b[0;34m\"Use a.empty, a.bool(), a.item(), a.any() or a.all().\"\u001b[0m\u001b[0;34m\u001b[0m\u001b[0;34m\u001b[0m\u001b[0m\n\u001b[1;32m   1469\u001b[0m         )\n",
      "\u001b[0;31mValueError\u001b[0m: The truth value of a Series is ambiguous. Use a.empty, a.bool(), a.item(), a.any() or a.all()."
     ]
    }
   ],
   "source": [
    "projection.apply(calculate_tax)"
   ]
  },
  {
   "cell_type": "code",
   "execution_count": 10,
   "metadata": {},
   "outputs": [
    {
     "name": "stdout",
     "output_type": "stream",
     "text": [
      "25\n",
      "[ 1  4  9 16 25]\n"
     ]
    }
   ],
   "source": [
    "import numpy as np\n",
    "\n",
    "def square(x):\n",
    "    return x ** 2\n",
    "\n",
    "square_vectorized = np.vectorize(square)\n",
    "\n",
    "# Original square function applied to a single value\n",
    "result = square(5)\n",
    "print(result)  # Output: 25\n",
    "\n",
    "# Vectorized version of square function applied to an array\n",
    "array = np.array([1, 2, 3, 4, 5])\n",
    "result_array = square_vectorized(array)\n",
    "print(result_array)  # Output: [ 1  4  9 16 25 ]\n"
   ]
  },
  {
   "cell_type": "code",
   "execution_count": 11,
   "metadata": {},
   "outputs": [
    {
     "name": "stdout",
     "output_type": "stream",
     "text": [
      "25\n",
      "[ 1  4  9 16 25]\n"
     ]
    }
   ],
   "source": [
    "import numpy as np\n",
    "\n",
    "@np.vectorize\n",
    "def square(x):\n",
    "    return x ** 2\n",
    "\n",
    "# Original square function applied to a single value\n",
    "result = square(5)\n",
    "print(result)  # Output: 25\n",
    "\n",
    "# Vectorized version of square function applied to an array\n",
    "array = np.array([1, 2, 3, 4, 5])\n",
    "result_array = square_vectorized(array)\n",
    "print(result_array)  # Output: [ 1  4  9 16 25 ]"
   ]
  },
  {
   "cell_type": "code",
   "execution_count": 1,
   "metadata": {},
   "outputs": [],
   "source": [
    "shocks = {\n",
    "    2027: {\n",
    "        'robert_income': (-10000, 'Robert leaves Google'),\n",
    "        'isabel_income': (-100000, 'Isabel book deals are smaller')\n",
    "    },\n",
    "    2030: {\n",
    "        'expenses':(30_000, 'Childcare')\n",
    "    }\n",
    "\n",
    "}"
   ]
  },
  {
   "cell_type": "code",
   "execution_count": 4,
   "metadata": {},
   "outputs": [
    {
     "data": {
      "text/plain": [
       "[(2027,\n",
       "  {'robert_income': (-10000, 'Robert leaves Google'),\n",
       "   'isabel_income': (-100000, 'Isabel book deals are smaller')}),\n",
       " (2030, {'expenses': (30000, 'Childcare')})]"
      ]
     },
     "execution_count": 4,
     "metadata": {},
     "output_type": "execute_result"
    }
   ],
   "source": [
    "test = [item for item in shocks.items()]\n",
    "test"
   ]
  },
  {
   "cell_type": "code",
   "execution_count": 12,
   "metadata": {},
   "outputs": [],
   "source": [
    "def extract_numeric_values(dictionary):\n",
    "    numeric_values = []\n",
    "\n",
    "    for value in dictionary.values():\n",
    "        if isinstance(value, dict):\n",
    "            numeric_values.extend(extract_numeric_values(value))\n",
    "        elif isinstance(value, (int, float)):\n",
    "            numeric_values.append(value)\n",
    "        elif isinstance(value, tuple):\n",
    "            for item in value:\n",
    "                if isinstance(item, (int, float)):\n",
    "                    numeric_values.append(item)\n",
    "\n",
    "    return numeric_values"
   ]
  },
  {
   "cell_type": "code",
   "execution_count": 13,
   "metadata": {},
   "outputs": [
    {
     "data": {
      "text/plain": [
       "[-10000, -100000, 30000]"
      ]
     },
     "execution_count": 13,
     "metadata": {},
     "output_type": "execute_result"
    }
   ],
   "source": [
    "extract_numeric_values(shocks)"
   ]
  }
 ],
 "metadata": {
  "kernelspec": {
   "display_name": ".venv",
   "language": "python",
   "name": "python3"
  },
  "language_info": {
   "codemirror_mode": {
    "name": "ipython",
    "version": 3
   },
   "file_extension": ".py",
   "mimetype": "text/x-python",
   "name": "python",
   "nbconvert_exporter": "python",
   "pygments_lexer": "ipython3",
   "version": "3.10.6"
  },
  "orig_nbformat": 4
 },
 "nbformat": 4,
 "nbformat_minor": 2
}
